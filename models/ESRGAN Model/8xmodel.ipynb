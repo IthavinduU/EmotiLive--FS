{
 "cells": [
  {
   "cell_type": "code",
   "execution_count": 6,
   "metadata": {},
   "outputs": [
    {
     "name": "stdout",
     "output_type": "stream",
     "text": [
      "✅ Directories set up successfully!\n"
     ]
    }
   ],
   "source": [
    "# %% [Setup]\n",
    "import os\n",
    "import shutil\n",
    "import subprocess\n",
    "import cv2\n",
    "import numpy as np\n",
    "import torch\n",
    "import lpips\n",
    "from skimage.metrics import structural_similarity as ssim\n",
    "import glob\n",
    "\n",
    "# Define paths\n",
    "temp_folder = 'tmp_frames'\n",
    "result_folder = 'results'\n",
    "\n",
    "# Clean existing folders\n",
    "for folder in [temp_folder, result_folder]:\n",
    "    if os.path.isdir(folder):\n",
    "        shutil.rmtree(folder)\n",
    "    os.mkdir(folder)\n",
    "\n",
    "print(\"✅ Directories set up successfully!\")\n"
   ]
  },
  {
   "cell_type": "code",
   "execution_count": 7,
   "metadata": {},
   "outputs": [
    {
     "name": "stdout",
     "output_type": "stream",
     "text": [
      "🎬 Selected Video: ds3_1.mp4\n"
     ]
    }
   ],
   "source": [
    "# %% [Select Video]\n",
    "input_path = r'D:\\University\\IIT\\Level 7\\Final Year Project\\MVP\\EmotiLive\\ESRGAN Model\\inputs\\ds3_1.mp4'  # Change this to your input video path\n",
    "\n",
    "if not os.path.exists(input_path):\n",
    "    raise ValueError(f\"❌ Video file not found: {input_path}\")\n",
    "\n",
    "file_name = os.path.basename(input_path)\n",
    "print(f\"🎬 Selected Video: {file_name}\")\n"
   ]
  },
  {
   "cell_type": "code",
   "execution_count": 8,
   "metadata": {},
   "outputs": [
    {
     "name": "stdout",
     "output_type": "stream",
     "text": [
      "🔄 Extracting frames from video...\n",
      "✅ Extracted 196 frames successfully!\n"
     ]
    }
   ],
   "source": [
    "# %% [Extract Frames]\n",
    "print(\"🔄 Extracting frames from video...\")\n",
    "\n",
    "cmd = [\n",
    "    'ffmpeg',\n",
    "    '-i', input_path,\n",
    "    '-vf', 'fps=15',  # Extract at 15 FPS (changeable)\n",
    "    '-q:v', '1',       # High-quality extraction\n",
    "    f'{temp_folder}/frame_%08d.png'\n",
    "]\n",
    "\n",
    "process = subprocess.run(cmd, stdout=subprocess.PIPE, stderr=subprocess.PIPE)\n",
    "frame_count = len(os.listdir(temp_folder))\n",
    "\n",
    "if process.returncode != 0 or frame_count == 0:\n",
    "    raise RuntimeError(\"❌ Error extracting frames\")\n",
    "\n",
    "print(f\"✅ Extracted {frame_count} frames successfully!\")\n"
   ]
  },
  {
   "cell_type": "code",
   "execution_count": 9,
   "metadata": {},
   "outputs": [
    {
     "name": "stdout",
     "output_type": "stream",
     "text": [
      "🧹 Denoising extracted frames...\n",
      "✅ Denoising complete!\n"
     ]
    }
   ],
   "source": [
    "# %% [Pre-Process Frames: Denoising]\n",
    "print(\"🧹 Denoising extracted frames...\")\n",
    "\n",
    "for frame_path in glob.glob(os.path.join(temp_folder, \"*.png\")):\n",
    "    frame = cv2.imread(frame_path)\n",
    "    frame = cv2.fastNlMeansDenoisingColored(frame, None, 10, 10, 7, 21)  # Denoise\n",
    "    cv2.imwrite(frame_path, frame)\n",
    "\n",
    "print(\"✅ Denoising complete!\")\n"
   ]
  },
  {
   "cell_type": "code",
   "execution_count": 10,
   "metadata": {},
   "outputs": [
    {
     "name": "stdout",
     "output_type": "stream",
     "text": [
      "🚀 Enhancing frames using Real-ESRGAN...\n",
      "❌ Error enhancing frames! Full error message:\n",
      "Traceback (most recent call last):\n",
      "  File \"d:\\University\\IIT\\Level 7\\Final Year Project\\MVP\\EmotiLive\\ESRGAN Model\\inference_realesrgan.py\", line 177, in <module>\n",
      "    main()\n",
      "  File \"d:\\University\\IIT\\Level 7\\Final Year Project\\MVP\\EmotiLive\\ESRGAN Model\\inference_realesrgan.py\", line 119, in main\n",
      "    scale=netscale,\n",
      "UnboundLocalError: local variable 'netscale' referenced before assignment\n",
      "\n"
     ]
    },
    {
     "ename": "RuntimeError",
     "evalue": "Real-ESRGAN frame enhancement failed",
     "output_type": "error",
     "traceback": [
      "\u001b[1;31m---------------------------------------------------------------------------\u001b[0m",
      "\u001b[1;31mRuntimeError\u001b[0m                              Traceback (most recent call last)",
      "Cell \u001b[1;32mIn[10], line 23\u001b[0m\n\u001b[0;32m     21\u001b[0m     \u001b[38;5;28mprint\u001b[39m(\u001b[38;5;124m\"\u001b[39m\u001b[38;5;124m❌ Error enhancing frames! Full error message:\u001b[39m\u001b[38;5;124m\"\u001b[39m)\n\u001b[0;32m     22\u001b[0m     \u001b[38;5;28mprint\u001b[39m(process\u001b[38;5;241m.\u001b[39mstderr)  \u001b[38;5;66;03m# Print full error log for debugging\u001b[39;00m\n\u001b[1;32m---> 23\u001b[0m     \u001b[38;5;28;01mraise\u001b[39;00m \u001b[38;5;167;01mRuntimeError\u001b[39;00m(\u001b[38;5;124m\"\u001b[39m\u001b[38;5;124mReal-ESRGAN frame enhancement failed\u001b[39m\u001b[38;5;124m\"\u001b[39m)\n\u001b[0;32m     25\u001b[0m \u001b[38;5;28mprint\u001b[39m(\u001b[38;5;124m\"\u001b[39m\u001b[38;5;124m✅ Frame enhancement complete!\u001b[39m\u001b[38;5;124m\"\u001b[39m)\n",
      "\u001b[1;31mRuntimeError\u001b[0m: Real-ESRGAN frame enhancement failed"
     ]
    }
   ],
   "source": [
    "# %% [Enhance Frames]\n",
    "import subprocess\n",
    "\n",
    "print(\"🚀 Enhancing frames using Real-ESRGAN...\")\n",
    "\n",
    "cmd = [\n",
    "    'python', 'inference_realesrgan.py',\n",
    "    '-n', 'RealESRGAN_x8',  # Use the 8x model\n",
    "    '-i', temp_folder,\n",
    "    '--outscale', '8',  # Match upscale factor with model\n",
    "    '--face_enhance',\n",
    "    '--tile', '128',  # Reduce tile size for CPU stability\n",
    "    '--fp32'  # Ensure CPU runs in full precision mode\n",
    "]\n",
    "\n",
    "# Run the command and capture output\n",
    "process = subprocess.run(cmd, stdout=subprocess.PIPE, stderr=subprocess.PIPE, text=True)\n",
    "\n",
    "# Check if Real-ESRGAN execution failed\n",
    "if process.returncode != 0:\n",
    "    print(\"❌ Error enhancing frames! Full error message:\")\n",
    "    print(process.stderr)  # Print full error log for debugging\n",
    "    raise RuntimeError(\"Real-ESRGAN frame enhancement failed\")\n",
    "\n",
    "print(\"✅ Frame enhancement complete!\")\n"
   ]
  },
  {
   "cell_type": "code",
   "execution_count": null,
   "metadata": {},
   "outputs": [],
   "source": [
    "# %% [Post-Process Frames: Sharpening]\n",
    "print(\"🔍 Applying sharpening filter...\")\n",
    "\n",
    "sharpen_kernel = np.array([[0, -1, 0], [-1, 5, -1], [0, -1, 0]])\n",
    "\n",
    "for frame_path in glob.glob(os.path.join(temp_folder, \"*.png\")):\n",
    "    frame = cv2.imread(frame_path)\n",
    "    frame = cv2.filter2D(frame, -1, sharpen_kernel)  # Apply sharpening\n",
    "    cv2.imwrite(frame_path, frame)\n",
    "\n",
    "print(\"✅ Sharpening complete!\")\n"
   ]
  },
  {
   "cell_type": "code",
   "execution_count": null,
   "metadata": {},
   "outputs": [],
   "source": [
    "# %% [Recreate Video]\n",
    "print(\"🎥 Recreating video from enhanced frames...\")\n",
    "\n",
    "output_video = os.path.join(result_folder, f\"enhanced_{file_name}\")\n",
    "fps = 15  # Set output frame rate\n",
    "\n",
    "cmd = [\n",
    "    'ffmpeg',\n",
    "    '-framerate', str(fps),\n",
    "    '-i', os.path.join(temp_folder, 'frame_%08d.png'),\n",
    "    '-c:v', 'libx265',  # H.265 codec for better compression\n",
    "    '-crf', '16',  # Lower CRF for higher quality\n",
    "    '-preset', 'slow',  # Better compression (slower encoding)\n",
    "    '-pix_fmt', 'yuv420p',\n",
    "    output_video\n",
    "]\n",
    "\n",
    "process = subprocess.run(cmd, stdout=subprocess.PIPE, stderr=subprocess.PIPE)\n",
    "\n",
    "if process.returncode != 0:\n",
    "    raise RuntimeError(\"❌ Error recreating video\")\n",
    "\n",
    "print(f\"✅ Enhanced video saved as: {output_video}\")\n"
   ]
  },
  {
   "cell_type": "code",
   "execution_count": null,
   "metadata": {},
   "outputs": [],
   "source": [
    "# %% [Define Quality Metrics]\n",
    "print(\"📊 Initializing quality metrics...\")\n",
    "\n",
    "lpips_loss = lpips.LPIPS(net='alex')  # Perceptual loss function\n",
    "\n",
    "def compute_psnr(image1, image2):\n",
    "    mse = np.mean((image1 - image2) ** 2)\n",
    "    return 100 if mse == 0 else 20 * np.log10(255.0 / np.sqrt(mse))\n",
    "\n",
    "def compute_ssim(image1, image2):\n",
    "    return ssim(image1, image2, data_range=255, channel_axis=-1)\n",
    "\n",
    "def compute_mse(image1, image2):\n",
    "    return np.mean((image1 - image2) ** 2)\n",
    "\n",
    "def compute_lpips(image1, image2):\n",
    "    image1 = torch.from_numpy(image1).float().permute(2, 0, 1).unsqueeze(0) / 255.0\n",
    "    image2 = torch.from_numpy(image2).float().permute(2, 0, 1).unsqueeze(0) / 255.0\n",
    "    return lpips_loss(image1, image2).item()\n",
    "\n",
    "print(\"✅ Quality metrics initialized!\")\n"
   ]
  },
  {
   "cell_type": "code",
   "execution_count": null,
   "metadata": {},
   "outputs": [],
   "source": [
    "# %% [Compare Videos]\n",
    "def compare_videos(original_video_path, enhanced_video_path):\n",
    "    original_video = cv2.VideoCapture(original_video_path)\n",
    "    enhanced_video = cv2.VideoCapture(enhanced_video_path)\n",
    "\n",
    "    psnr_values, ssim_values, mse_values, lpips_values = [], [], [], []\n",
    "    frame_count = 0\n",
    "\n",
    "    while original_video.isOpened() and enhanced_video.isOpened():\n",
    "        ret1, frame1 = original_video.read()\n",
    "        ret2, frame2 = enhanced_video.read()\n",
    "\n",
    "        if not ret1 or not ret2:\n",
    "            break  # Stop when no more frames\n",
    "\n",
    "        frame1 = cv2.resize(frame1, (640, 640))\n",
    "        frame2 = cv2.resize(frame2, (640, 640))\n",
    "\n",
    "        frame_count += 1\n",
    "        print(f\"📸 Processing frame {frame_count}...\")\n",
    "\n",
    "        psnr_values.append(compute_psnr(frame1, frame2))\n",
    "        ssim_values.append(compute_ssim(frame1, frame2))\n",
    "        mse_values.append(compute_mse(frame1, frame2))\n",
    "        lpips_values.append(compute_lpips(frame1, frame2))\n",
    "\n",
    "    original_video.release()\n",
    "    enhanced_video.release()\n",
    "\n",
    "    print(\"\\n=== 🎯 Video Quality Comparison Results ===\")\n",
    "    print(f\"📌 Average PSNR:  {np.mean(psnr_values):.2f} dB\")\n",
    "    print(f\"📌 Average SSIM:  {np.mean(ssim_values):.4f}\")\n",
    "    print(f\"📌 Average MSE:   {np.mean(mse_values):.2f}\")\n",
    "    print(f\"📌 Average LPIPS: {np.mean(lpips_values):.4f}\")\n",
    "\n",
    "compare_videos(input_path, output_video)\n"
   ]
  }
 ],
 "metadata": {
  "kernelspec": {
   "display_name": "Python 3",
   "language": "python",
   "name": "python3"
  },
  "language_info": {
   "codemirror_mode": {
    "name": "ipython",
    "version": 3
   },
   "file_extension": ".py",
   "mimetype": "text/x-python",
   "name": "python",
   "nbconvert_exporter": "python",
   "pygments_lexer": "ipython3",
   "version": "3.10.1"
  }
 },
 "nbformat": 4,
 "nbformat_minor": 2
}
