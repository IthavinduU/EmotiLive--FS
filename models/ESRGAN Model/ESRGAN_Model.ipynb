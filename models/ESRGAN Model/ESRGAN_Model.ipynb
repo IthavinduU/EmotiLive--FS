{
 "cells": [
  {
   "cell_type": "code",
   "execution_count": 6,
   "metadata": {},
   "outputs": [
    {
     "name": "stdout",
     "output_type": "stream",
     "text": [
      "Directories set up successfully!\n"
     ]
    }
   ],
   "source": [
    "# %% [Setup]\n",
    "import os\n",
    "import shutil\n",
    "import subprocess\n",
    "import cv2\n",
    "import numpy as np\n",
    "import torch\n",
    "import lpips\n",
    "from skimage.metrics import structural_similarity as ssim\n",
    "\n",
    "# Define paths\n",
    "temp_folder = 'tmp_frames'\n",
    "result_folder = 'results'\n",
    "\n",
    "# Clean existing folders\n",
    "for folder in [temp_folder, result_folder]:\n",
    "    if os.path.isdir(folder):\n",
    "        shutil.rmtree(folder)\n",
    "    os.mkdir(folder)\n",
    "\n",
    "print(\"Directories set up successfully!\")\n"
   ]
  },
  {
   "cell_type": "code",
   "execution_count": 7,
   "metadata": {},
   "outputs": [
    {
     "name": "stdout",
     "output_type": "stream",
     "text": [
      "Selected Video: ds3_1.mp4\n"
     ]
    }
   ],
   "source": [
    "# %% [Select Video]\n",
    "input_path = r'D:\\University\\IIT\\Level 7\\Final Year Project\\MVP\\EmotiLive\\ESRGAN Model\\inputs\\ds3_1.mp4'  \n",
    "\n",
    "if not os.path.exists(input_path):\n",
    "    raise ValueError(f\"Video file not found: {input_path}\")\n",
    "\n",
    "file_name = os.path.basename(input_path)\n",
    "print(f\"Selected Video: {file_name}\")\n"
   ]
  },
  {
   "cell_type": "code",
   "execution_count": 8,
   "metadata": {},
   "outputs": [
    {
     "name": "stdout",
     "output_type": "stream",
     "text": [
      "Extracting frames from video...\n",
      "Extracted 196 frames successfully!\n"
     ]
    }
   ],
   "source": [
    "print(\"Extracting frames from video...\")\n",
    "\n",
    "cmd = [\n",
    "    'ffmpeg',\n",
    "    '-i', input_path,\n",
    "    '-vf', 'fps=15',  \n",
    "    '-q:v', '1',      \n",
    "    f'{temp_folder}/frame_%08d.png'\n",
    "]\n",
    "\n",
    "process = subprocess.run(cmd, stdout=subprocess.PIPE, stderr=subprocess.PIPE)\n",
    "frame_count = len(os.listdir(temp_folder))\n",
    "\n",
    "if process.returncode != 0 or frame_count == 0:\n",
    "    raise RuntimeError(\"Error extracting frames\")\n",
    "\n",
    "print(f\"Extracted {frame_count} frames successfully!\")"
   ]
  },
  {
   "cell_type": "code",
   "execution_count": 10,
   "metadata": {},
   "outputs": [
    {
     "name": "stdout",
     "output_type": "stream",
     "text": [
      "Enhancing frames using Real-ESRGAN...\n",
      "Frame enhancement complete!\n"
     ]
    }
   ],
   "source": [
    "print(\"Enhancing frames using Real-ESRGAN...\")\n",
    "\n",
    "cmd = [\n",
    "    'python', 'inference_realesrgan.py',\n",
    "    '-n', 'RealESRGAN_x4plus',\n",
    "    '-i', temp_folder,\n",
    "    '--outscale', '4',\n",
    "    '--face_enhance'  \n",
    "]\n",
    "\n",
    "process = subprocess.run(cmd, stdout=subprocess.PIPE, stderr=subprocess.PIPE)\n",
    "\n",
    "if process.returncode != 0:\n",
    "    raise RuntimeError(\"Error enhancing frames\")\n",
    "\n",
    "print(\"Frame enhancement complete!\")\n"
   ]
  },
  {
   "cell_type": "code",
   "execution_count": 11,
   "metadata": {},
   "outputs": [
    {
     "name": "stdout",
     "output_type": "stream",
     "text": [
      "🎥 Recreating video from enhanced frames...\n",
      "FFmpeg Output: \n",
      "FFmpeg Error: ffmpeg version N-118892-ge5d62e20c8-20250321 Copyright (c) 2000-2025 the FFmpeg developers\n",
      "  built with gcc 14.2.0 (crosstool-NG 1.27.0.18_7458341)\n",
      "  configuration: --prefix=/ffbuild/prefix --pkg-config-flags=--static --pkg-config=pkg-config --cross-prefix=x86_64-w64-mingw32- --arch=x86_64 --target-os=mingw32 --enable-gpl --enable-version3 --disable-debug --enable-shared --disable-static --disable-w32threads --enable-pthreads --enable-iconv --enable-zlib --enable-libfreetype --enable-libfribidi --enable-gmp --enable-libxml2 --enable-lzma --enable-fontconfig --enable-libharfbuzz --enable-libvorbis --enable-opencl --disable-libpulse --enable-libvmaf --disable-libxcb --disable-xlib --enable-amf --enable-libaom --enable-libaribb24 --enable-avisynth --enable-chromaprint --enable-libdav1d --enable-libdavs2 --enable-libdvdread --enable-libdvdnav --disable-libfdk-aac --enable-ffnvcodec --enable-cuda-llvm --enable-frei0r --enable-libgme --enable-libkvazaar --enable-libaribcaption --enable-libass --enable-libbluray --enable-libjxl --enable-libmp3lame --enable-libopus --enable-librist --enable-libssh --enable-libtheora --enable-libvpx --enable-libwebp --enable-libzmq --enable-lv2 --enable-libvpl --enable-openal --enable-libopencore-amrnb --enable-libopencore-amrwb --enable-libopenh264 --enable-libopenjpeg --enable-libopenmpt --enable-librav1e --enable-librubberband --enable-schannel --enable-sdl2 --enable-libsnappy --enable-libsoxr --enable-libsrt --enable-libsvtav1 --enable-libtwolame --enable-libuavs3d --disable-libdrm --enable-vaapi --enable-libvidstab --enable-vulkan --enable-libshaderc --enable-libplacebo --disable-libvvenc --enable-libx264 --enable-libx265 --enable-libxavs2 --enable-libxvid --enable-libzimg --enable-libzvbi --extra-cflags=-DLIBTWOLAME_STATIC --extra-cxxflags= --extra-libs=-lgomp --extra-ldflags=-pthread --extra-ldexeflags= --cc=x86_64-w64-mingw32-gcc --cxx=x86_64-w64-mingw32-g++ --ar=x86_64-w64-mingw32-gcc-ar --ranlib=x86_64-w64-mingw32-gcc-ranlib --nm=x86_64-w64-mingw32-gcc-nm --extra-version=20250321\n",
      "  libavutil      59. 60.100 / 59. 60.100\n",
      "  libavcodec     61. 33.102 / 61. 33.102\n",
      "  libavformat    61.  9.107 / 61.  9.107\n",
      "  libavdevice    61.  4.100 / 61.  4.100\n",
      "  libavfilter    10.  9.100 / 10.  9.100\n",
      "  libswscale      8. 13.103 /  8. 13.103\n",
      "  libswresample   5.  4.100 /  5.  4.100\n",
      "  libpostproc    58.  4.100 / 58.  4.100\n",
      "Input #0, image2, from 'tmp_frames\\frame_%08d.png':\n",
      "  Duration: 00:00:13.07, start: 0.000000, bitrate: N/A\n",
      "  Stream #0:0: Video: png, rgb24(pc, gbr/unknown/unknown), 1280x720 [SAR 1:1 DAR 16:9], 15 fps, 15 tbr, 15 tbn\n",
      "Stream mapping:\n",
      "  Stream #0:0 -> #0:0 (png (native) -> h264 (libx264))\n",
      "Press [q] to stop, [?] for help\n",
      "[libx264 @ 000001b1fb873580] using SAR=1/1\n",
      "[libx264 @ 000001b1fb873580] using cpu capabilities: MMX2 SSE2Fast SSSE3 SSE4.2 AVX FMA3 BMI2 AVX2\n",
      "[libx264 @ 000001b1fb873580] profile High, level 3.1, 4:2:0, 8-bit\n",
      "[libx264 @ 000001b1fb873580] 264 - core 164 - H.264/MPEG-4 AVC codec - Copyleft 2003-2025 - http://www.videolan.org/x264.html - options: cabac=1 ref=5 deblock=1:0:0 analyse=0x3:0x113 me=hex subme=8 psy=1 psy_rd=1.00:0.00 mixed_ref=1 me_range=16 chroma_me=1 trellis=2 8x8dct=1 cqm=0 deadzone=21,11 fast_pskip=1 chroma_qp_offset=-2 threads=18 lookahead_threads=3 sliced_threads=0 nr=0 decimate=1 interlaced=0 bluray_compat=0 constrained_intra=0 bframes=3 b_pyramid=2 b_adapt=1 b_bias=0 direct=3 weightb=1 open_gop=0 weightp=2 keyint=250 keyint_min=15 scenecut=40 intra_refresh=0 rc_lookahead=50 rc=crf mbtree=1 crf=23.0 qcomp=0.60 qpmin=0 qpmax=69 qpstep=4 ip_ratio=1.40 aq=1:1.00\n",
      "Output #0, mp4, to 'results\\enhanced_ds3_1.mp4':\n",
      "  Metadata:\n",
      "    encoder         : Lavf61.9.107\n",
      "  Stream #0:0: Video: h264 (avc1 / 0x31637661), yuv420p(tv, progressive), 1280x720 [SAR 1:1 DAR 16:9], q=2-31, 15 fps, 15360 tbn\n",
      "    Metadata:\n",
      "      encoder         : Lavc61.33.102 libx264\n",
      "    Side data:\n",
      "      cpb: bitrate max/min/avg: 0/0/0 buffer size: 0 vbv_delay: N/A\n",
      "frame=    0 fps=0.0 q=0.0 size=       0KiB time=N/A bitrate=N/A speed=N/A    \n",
      "frame=   21 fps= 20 q=27.0 size=       0KiB time=00:00:01.26 bitrate=   0.3kbits/s speed=1.23x    \n",
      "frame=   45 fps= 29 q=27.0 size=     256KiB time=00:00:02.86 bitrate= 731.7kbits/s speed=1.85x    \n",
      "frame=   73 fps= 35 q=27.0 size=     512KiB time=00:00:04.73 bitrate= 886.2kbits/s speed= 2.3x    \n",
      "frame=   97 fps= 38 q=27.0 size=     768KiB time=00:00:06.33 bitrate= 993.4kbits/s speed=2.46x    \n",
      "frame=  125 fps= 40 q=27.0 size=     768KiB time=00:00:08.20 bitrate= 767.3kbits/s speed=2.65x    \n",
      "frame=  165 fps= 46 q=27.0 size=    1024KiB time=00:00:10.86 bitrate= 772.0kbits/s speed=3.02x    \n",
      "[out#0/mp4 @ 000001b1fb8c9440] video:1405KiB audio:0KiB subtitle:0KiB other streams:0KiB global headers:0KiB muxing overhead: 0.224972%\n",
      "frame=  196 fps= 50 q=-1.0 Lsize=    1408KiB time=00:00:12.93 bitrate= 891.7kbits/s speed=3.31x    \n",
      "[libx264 @ 000001b1fb873580] frame I:1     Avg QP:19.93  size: 80864\n",
      "[libx264 @ 000001b1fb873580] frame P:49    Avg QP:20.09  size: 19643\n",
      "[libx264 @ 000001b1fb873580] frame B:146   Avg QP:23.06  size:  2701\n",
      "[libx264 @ 000001b1fb873580] consecutive B-frames:  0.5%  0.0%  1.5% 98.0%\n",
      "[libx264 @ 000001b1fb873580] mb I  I16..4: 24.6% 38.4% 36.9%\n",
      "[libx264 @ 000001b1fb873580] mb P  I16..4:  1.7%  2.0%  0.7%  P16..4: 31.1% 12.9% 10.7%  0.0%  0.0%    skip:40.9%\n",
      "[libx264 @ 000001b1fb873580] mb B  I16..4:  0.1%  0.1%  0.0%  B16..8: 24.3%  2.7%  0.9%  direct: 0.7%  skip:71.0%  L0:36.5% L1:55.1% BI: 8.4%\n",
      "[libx264 @ 000001b1fb873580] 8x8 transform intra:43.1% inter:46.1%\n",
      "[libx264 @ 000001b1fb873580] direct mvs  spatial:93.2% temporal:6.8%\n",
      "[libx264 @ 000001b1fb873580] coded y,uvDC,uvAC intra: 46.8% 40.1% 15.8% inter: 7.0% 5.5% 0.3%\n",
      "[libx264 @ 000001b1fb873580] i16 v,h,dc,p: 24% 30% 20% 26%\n",
      "[libx264 @ 000001b1fb873580] i8 v,h,dc,ddl,ddr,vr,hd,vl,hu: 17% 17% 36%  3%  5%  5%  7%  5%  7%\n",
      "[libx264 @ 000001b1fb873580] i4 v,h,dc,ddl,ddr,vr,hd,vl,hu: 15% 20% 10%  6%  9%  9% 11%  8% 11%\n",
      "[libx264 @ 000001b1fb873580] i8c dc,h,v,p: 54% 23% 18%  5%\n",
      "[libx264 @ 000001b1fb873580] Weighted P-Frames: Y:8.2% UV:4.1%\n",
      "[libx264 @ 000001b1fb873580] ref P L0: 57.2% 14.9% 16.6%  4.7%  6.1%  0.5%\n",
      "[libx264 @ 000001b1fb873580] ref B L0: 83.4% 11.4%  4.0%  1.2%\n",
      "[libx264 @ 000001b1fb873580] ref B L1: 95.2%  4.8%\n",
      "[libx264 @ 000001b1fb873580] kb/s:880.24\n",
      "\n",
      "Enhanced video saved as: results\\enhanced_ds3_1.mp4\n"
     ]
    }
   ],
   "source": [
    "import subprocess\n",
    "import os\n",
    "\n",
    "print(\"🎥 Recreating video from enhanced frames...\")\n",
    "\n",
    "output_video = os.path.join(result_folder, f\"enhanced_{file_name}\")\n",
    "fps = 15  \n",
    "cmd = [\n",
    "    'ffmpeg',\n",
    "    '-framerate', str(fps),\n",
    "    '-i', os.path.join(temp_folder, 'frame_%08d.png'),  \n",
    "    '-c:v', 'libx264',\n",
    "    '-preset', 'slow',\n",
    "    '-crf', '23',\n",
    "    '-r', str(fps),\n",
    "    '-pix_fmt', 'yuv420p',\n",
    "    output_video\n",
    "]\n",
    "\n",
    "\n",
    "process = subprocess.run(cmd, stdout=subprocess.PIPE, stderr=subprocess.PIPE, text=True)\n",
    "\n",
    "# Print the FFmpeg error message for debugging\n",
    "print(\"FFmpeg Output:\", process.stdout)\n",
    "print(\"FFmpeg Error:\", process.stderr)\n",
    "\n",
    "if process.returncode != 0:\n",
    "    raise RuntimeError(f\"Error recreating video. FFmpeg Error:\\n{process.stderr}\")\n",
    "\n",
    "print(f\"Enhanced video saved as: {output_video}\")\n"
   ]
  },
  {
   "cell_type": "code",
   "execution_count": 12,
   "metadata": {},
   "outputs": [
    {
     "name": "stdout",
     "output_type": "stream",
     "text": [
      "Initializing quality metrics\n",
      "Setting up [LPIPS] perceptual loss: trunk [alex], v[0.1], spatial [off]\n"
     ]
    },
    {
     "name": "stderr",
     "output_type": "stream",
     "text": [
      "c:\\Users\\thavi\\AppData\\Local\\Programs\\Python\\Python310\\lib\\site-packages\\torchvision\\models\\_utils.py:208: UserWarning: The parameter 'pretrained' is deprecated since 0.13 and may be removed in the future, please use 'weights' instead.\n",
      "  warnings.warn(\n",
      "c:\\Users\\thavi\\AppData\\Local\\Programs\\Python\\Python310\\lib\\site-packages\\torchvision\\models\\_utils.py:223: UserWarning: Arguments other than a weight enum or `None` for 'weights' are deprecated since 0.13 and may be removed in the future. The current behavior is equivalent to passing `weights=AlexNet_Weights.IMAGENET1K_V1`. You can also use `weights=AlexNet_Weights.DEFAULT` to get the most up-to-date weights.\n",
      "  warnings.warn(msg)\n"
     ]
    },
    {
     "name": "stdout",
     "output_type": "stream",
     "text": [
      "Loading model from: c:\\Users\\thavi\\AppData\\Local\\Programs\\Python\\Python310\\lib\\site-packages\\lpips\\weights\\v0.1\\alex.pth\n",
      "Quality metrics initialized!\n"
     ]
    }
   ],
   "source": [
    "# %% [Define Quality Metrics]\n",
    "print(\"Initializing quality metrics\")\n",
    "\n",
    "lpips_loss = lpips.LPIPS(net='alex')  \n",
    "\n",
    "def compute_psnr(image1, image2):\n",
    "    mse = np.mean((image1 - image2) ** 2)\n",
    "    return 100 if mse == 0 else 20 * np.log10(255.0 / np.sqrt(mse))\n",
    "\n",
    "def compute_ssim(image1, image2):\n",
    "    return ssim(image1, image2, data_range=255, channel_axis=-1)\n",
    "\n",
    "def compute_mse(image1, image2):\n",
    "    return np.mean((image1 - image2) ** 2)\n",
    "\n",
    "def compute_lpips(image1, image2):\n",
    "    image1 = torch.from_numpy(image1).float().permute(2, 0, 1).unsqueeze(0) / 255.0\n",
    "    image2 = torch.from_numpy(image2).float().permute(2, 0, 1).unsqueeze(0) / 255.0\n",
    "    return lpips_loss(image1, image2).item()\n",
    "\n",
    "print(\"Quality metrics initialized!\")\n"
   ]
  },
  {
   "cell_type": "code",
   "execution_count": 13,
   "metadata": {},
   "outputs": [
    {
     "name": "stdout",
     "output_type": "stream",
     "text": [
      "\n",
      "Video Quality Comparison Results\n",
      "Average PSNR:  34.70 dB \n",
      "Average SSIM:  0.8792 \n",
      "Average MSE:   25.52 \n",
      "Average LPIPS: 0.0622\n"
     ]
    }
   ],
   "source": [
    "# %% [Compare Videos]\n",
    "def compare_videos(original_video_path, enhanced_video_path):\n",
    "    original_video = cv2.VideoCapture(original_video_path)\n",
    "    enhanced_video = cv2.VideoCapture(enhanced_video_path)\n",
    "\n",
    "    psnr_values, ssim_values, mse_values, lpips_values = [], [], [], []\n",
    "    frame_count = 0\n",
    "\n",
    "    while original_video.isOpened() and enhanced_video.isOpened():\n",
    "        ret1, frame1 = original_video.read()\n",
    "        ret2, frame2 = enhanced_video.read()\n",
    "\n",
    "        if not ret1 or not ret2:\n",
    "            break  # Stop when no more frames\n",
    "\n",
    "        frame1 = cv2.resize(frame1, (640, 640))\n",
    "        frame2 = cv2.resize(frame2, (640, 640))\n",
    "\n",
    "        frame_count += 1\n",
    "\n",
    "        # Compute quality metrics\n",
    "        psnr_values.append(compute_psnr(frame1, frame2))\n",
    "        ssim_values.append(compute_ssim(frame1, frame2))\n",
    "        mse_values.append(compute_mse(frame1, frame2))\n",
    "        lpips_values.append(compute_lpips(frame1, frame2))\n",
    "\n",
    "    original_video.release()\n",
    "    enhanced_video.release()\n",
    "\n",
    "    # Print Average Results\n",
    "    print(\"\\nVideo Quality Comparison Results\")\n",
    "    print(f\"Average PSNR:  {np.mean(psnr_values):.2f} dB \")\n",
    "    print(f\"Average SSIM:  {np.mean(ssim_values):.4f} \")\n",
    "    print(f\"Average MSE:   {np.mean(mse_values):.2f} \")\n",
    "    print(f\"Average LPIPS: {np.mean(lpips_values):.4f}\")\n",
    "\n",
    "# Run comparison\n",
    "compare_videos(input_path, output_video)\n"
   ]
  }
 ],
 "metadata": {
  "kernelspec": {
   "display_name": "Python 3",
   "language": "python",
   "name": "python3"
  },
  "language_info": {
   "codemirror_mode": {
    "name": "ipython",
    "version": 3
   },
   "file_extension": ".py",
   "mimetype": "text/x-python",
   "name": "python",
   "nbconvert_exporter": "python",
   "pygments_lexer": "ipython3",
   "version": "3.10.1"
  }
 },
 "nbformat": 4,
 "nbformat_minor": 2
}
